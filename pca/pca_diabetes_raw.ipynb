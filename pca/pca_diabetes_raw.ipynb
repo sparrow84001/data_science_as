{
 "metadata": {
  "language_info": {
   "codemirror_mode": {
    "name": "ipython",
    "version": 3
   },
   "file_extension": ".py",
   "mimetype": "text/x-python",
   "name": "python",
   "nbconvert_exporter": "python",
   "pygments_lexer": "ipython3",
   "version": "3.8.8"
  },
  "orig_nbformat": 2,
  "kernelspec": {
   "name": "python388jvsc74a57bd06164a6e5985db2c0058ac0f11411a3db6fb58fea4711a22e7f80dc1e8b2fc156",
   "display_name": "Python 3.8.8 64-bit ('Tgpu': conda)"
  }
 },
 "nbformat": 4,
 "nbformat_minor": 2,
 "cells": [
  {
   "cell_type": "code",
   "execution_count": 1,
   "metadata": {},
   "outputs": [],
   "source": [
    "import numpy as np\n",
    "import pandas as pd\n",
    "from sklearn.model_selection import train_test_split\n",
    "from sklearn.tree import DecisionTreeClassifier\n",
    "from sklearn.metrics import accuracy_score,confusion_matrix"
   ]
  },
  {
   "cell_type": "code",
   "execution_count": 2,
   "metadata": {},
   "outputs": [
    {
     "output_type": "execute_result",
     "data": {
      "text/plain": [
       "   Pregnancies  Glucose  BloodPressure  SkinThickness  Insulin   BMI  \\\n",
       "0            6      148             72             35        0  33.6   \n",
       "1            1       85             66             29        0  26.6   \n",
       "2            8      183             64              0        0  23.3   \n",
       "3            1       89             66             23       94  28.1   \n",
       "4            0      137             40             35      168  43.1   \n",
       "\n",
       "   DiabetesPedigreeFunction  Age  Outcome  \n",
       "0                     0.627   50        1  \n",
       "1                     0.351   31        0  \n",
       "2                     0.672   32        1  \n",
       "3                     0.167   21        0  \n",
       "4                     2.288   33        1  "
      ],
      "text/html": "<div>\n<style scoped>\n    .dataframe tbody tr th:only-of-type {\n        vertical-align: middle;\n    }\n\n    .dataframe tbody tr th {\n        vertical-align: top;\n    }\n\n    .dataframe thead th {\n        text-align: right;\n    }\n</style>\n<table border=\"1\" class=\"dataframe\">\n  <thead>\n    <tr style=\"text-align: right;\">\n      <th></th>\n      <th>Pregnancies</th>\n      <th>Glucose</th>\n      <th>BloodPressure</th>\n      <th>SkinThickness</th>\n      <th>Insulin</th>\n      <th>BMI</th>\n      <th>DiabetesPedigreeFunction</th>\n      <th>Age</th>\n      <th>Outcome</th>\n    </tr>\n  </thead>\n  <tbody>\n    <tr>\n      <th>0</th>\n      <td>6</td>\n      <td>148</td>\n      <td>72</td>\n      <td>35</td>\n      <td>0</td>\n      <td>33.6</td>\n      <td>0.627</td>\n      <td>50</td>\n      <td>1</td>\n    </tr>\n    <tr>\n      <th>1</th>\n      <td>1</td>\n      <td>85</td>\n      <td>66</td>\n      <td>29</td>\n      <td>0</td>\n      <td>26.6</td>\n      <td>0.351</td>\n      <td>31</td>\n      <td>0</td>\n    </tr>\n    <tr>\n      <th>2</th>\n      <td>8</td>\n      <td>183</td>\n      <td>64</td>\n      <td>0</td>\n      <td>0</td>\n      <td>23.3</td>\n      <td>0.672</td>\n      <td>32</td>\n      <td>1</td>\n    </tr>\n    <tr>\n      <th>3</th>\n      <td>1</td>\n      <td>89</td>\n      <td>66</td>\n      <td>23</td>\n      <td>94</td>\n      <td>28.1</td>\n      <td>0.167</td>\n      <td>21</td>\n      <td>0</td>\n    </tr>\n    <tr>\n      <th>4</th>\n      <td>0</td>\n      <td>137</td>\n      <td>40</td>\n      <td>35</td>\n      <td>168</td>\n      <td>43.1</td>\n      <td>2.288</td>\n      <td>33</td>\n      <td>1</td>\n    </tr>\n  </tbody>\n</table>\n</div>"
     },
     "metadata": {},
     "execution_count": 2
    }
   ],
   "source": [
    "data=pd.read_csv('diabetes.csv')\n",
    "data.head()"
   ]
  },
  {
   "cell_type": "code",
   "execution_count": 9,
   "metadata": {},
   "outputs": [
    {
     "output_type": "execute_result",
     "data": {
      "text/plain": [
       "     Pregnancies  Glucose  BloodPressure  SkinThickness  Insulin   BMI  \\\n",
       "0              6      148             72             35        0  33.6   \n",
       "1              1       85             66             29        0  26.6   \n",
       "2              8      183             64              0        0  23.3   \n",
       "3              1       89             66             23       94  28.1   \n",
       "4              0      137             40             35      168  43.1   \n",
       "..           ...      ...            ...            ...      ...   ...   \n",
       "763           10      101             76             48      180  32.9   \n",
       "764            2      122             70             27        0  36.8   \n",
       "765            5      121             72             23      112  26.2   \n",
       "766            1      126             60              0        0  30.1   \n",
       "767            1       93             70             31        0  30.4   \n",
       "\n",
       "     DiabetesPedigreeFunction  Age  \n",
       "0                       0.627   50  \n",
       "1                       0.351   31  \n",
       "2                       0.672   32  \n",
       "3                       0.167   21  \n",
       "4                       2.288   33  \n",
       "..                        ...  ...  \n",
       "763                     0.171   63  \n",
       "764                     0.340   27  \n",
       "765                     0.245   30  \n",
       "766                     0.349   47  \n",
       "767                     0.315   23  \n",
       "\n",
       "[768 rows x 8 columns]"
      ],
      "text/html": "<div>\n<style scoped>\n    .dataframe tbody tr th:only-of-type {\n        vertical-align: middle;\n    }\n\n    .dataframe tbody tr th {\n        vertical-align: top;\n    }\n\n    .dataframe thead th {\n        text-align: right;\n    }\n</style>\n<table border=\"1\" class=\"dataframe\">\n  <thead>\n    <tr style=\"text-align: right;\">\n      <th></th>\n      <th>Pregnancies</th>\n      <th>Glucose</th>\n      <th>BloodPressure</th>\n      <th>SkinThickness</th>\n      <th>Insulin</th>\n      <th>BMI</th>\n      <th>DiabetesPedigreeFunction</th>\n      <th>Age</th>\n    </tr>\n  </thead>\n  <tbody>\n    <tr>\n      <th>0</th>\n      <td>6</td>\n      <td>148</td>\n      <td>72</td>\n      <td>35</td>\n      <td>0</td>\n      <td>33.6</td>\n      <td>0.627</td>\n      <td>50</td>\n    </tr>\n    <tr>\n      <th>1</th>\n      <td>1</td>\n      <td>85</td>\n      <td>66</td>\n      <td>29</td>\n      <td>0</td>\n      <td>26.6</td>\n      <td>0.351</td>\n      <td>31</td>\n    </tr>\n    <tr>\n      <th>2</th>\n      <td>8</td>\n      <td>183</td>\n      <td>64</td>\n      <td>0</td>\n      <td>0</td>\n      <td>23.3</td>\n      <td>0.672</td>\n      <td>32</td>\n    </tr>\n    <tr>\n      <th>3</th>\n      <td>1</td>\n      <td>89</td>\n      <td>66</td>\n      <td>23</td>\n      <td>94</td>\n      <td>28.1</td>\n      <td>0.167</td>\n      <td>21</td>\n    </tr>\n    <tr>\n      <th>4</th>\n      <td>0</td>\n      <td>137</td>\n      <td>40</td>\n      <td>35</td>\n      <td>168</td>\n      <td>43.1</td>\n      <td>2.288</td>\n      <td>33</td>\n    </tr>\n    <tr>\n      <th>...</th>\n      <td>...</td>\n      <td>...</td>\n      <td>...</td>\n      <td>...</td>\n      <td>...</td>\n      <td>...</td>\n      <td>...</td>\n      <td>...</td>\n    </tr>\n    <tr>\n      <th>763</th>\n      <td>10</td>\n      <td>101</td>\n      <td>76</td>\n      <td>48</td>\n      <td>180</td>\n      <td>32.9</td>\n      <td>0.171</td>\n      <td>63</td>\n    </tr>\n    <tr>\n      <th>764</th>\n      <td>2</td>\n      <td>122</td>\n      <td>70</td>\n      <td>27</td>\n      <td>0</td>\n      <td>36.8</td>\n      <td>0.340</td>\n      <td>27</td>\n    </tr>\n    <tr>\n      <th>765</th>\n      <td>5</td>\n      <td>121</td>\n      <td>72</td>\n      <td>23</td>\n      <td>112</td>\n      <td>26.2</td>\n      <td>0.245</td>\n      <td>30</td>\n    </tr>\n    <tr>\n      <th>766</th>\n      <td>1</td>\n      <td>126</td>\n      <td>60</td>\n      <td>0</td>\n      <td>0</td>\n      <td>30.1</td>\n      <td>0.349</td>\n      <td>47</td>\n    </tr>\n    <tr>\n      <th>767</th>\n      <td>1</td>\n      <td>93</td>\n      <td>70</td>\n      <td>31</td>\n      <td>0</td>\n      <td>30.4</td>\n      <td>0.315</td>\n      <td>23</td>\n    </tr>\n  </tbody>\n</table>\n<p>768 rows × 8 columns</p>\n</div>"
     },
     "metadata": {},
     "execution_count": 9
    }
   ],
   "source": [
    "data_new=data.iloc[:,:-1]\n",
    "data_new"
   ]
  },
  {
   "cell_type": "code",
   "execution_count": 18,
   "metadata": {},
   "outputs": [
    {
     "output_type": "execute_result",
     "data": {
      "text/plain": [
       "     Pregnancies   Glucose  BloodPressure  SkinThickness   Insulin       BMI  \\\n",
       "0       0.639947  0.848324       0.149641       0.907270 -0.692891  0.204013   \n",
       "1      -0.844885 -1.123396      -0.160546       0.530902 -0.692891 -0.684422   \n",
       "2       1.233880  1.943724      -0.263941      -1.288212 -0.692891 -1.103255   \n",
       "3      -0.844885 -0.998208      -0.160546       0.154533  0.123302 -0.494043   \n",
       "4      -1.141852  0.504055      -1.504687       0.907270  0.765836  1.409746   \n",
       "..           ...       ...            ...            ...       ...       ...   \n",
       "763     1.827813 -0.622642       0.356432       1.722735  0.870031  0.115169   \n",
       "764    -0.547919  0.034598       0.046245       0.405445 -0.692891  0.610154   \n",
       "765     0.342981  0.003301       0.149641       0.154533  0.279594 -0.735190   \n",
       "766    -0.844885  0.159787      -0.470732      -1.288212 -0.692891 -0.240205   \n",
       "767    -0.844885 -0.873019       0.046245       0.656358 -0.692891 -0.202129   \n",
       "\n",
       "     DiabetesPedigreeFunction       Age  \n",
       "0                    0.468492  1.425995  \n",
       "1                   -0.365061 -0.190672  \n",
       "2                    0.604397 -0.105584  \n",
       "3                   -0.920763 -1.041549  \n",
       "4                    5.484909 -0.020496  \n",
       "..                        ...       ...  \n",
       "763                 -0.908682  2.532136  \n",
       "764                 -0.398282 -0.531023  \n",
       "765                 -0.685193 -0.275760  \n",
       "766                 -0.371101  1.170732  \n",
       "767                 -0.473785 -0.871374  \n",
       "\n",
       "[768 rows x 8 columns]"
      ],
      "text/html": "<div>\n<style scoped>\n    .dataframe tbody tr th:only-of-type {\n        vertical-align: middle;\n    }\n\n    .dataframe tbody tr th {\n        vertical-align: top;\n    }\n\n    .dataframe thead th {\n        text-align: right;\n    }\n</style>\n<table border=\"1\" class=\"dataframe\">\n  <thead>\n    <tr style=\"text-align: right;\">\n      <th></th>\n      <th>Pregnancies</th>\n      <th>Glucose</th>\n      <th>BloodPressure</th>\n      <th>SkinThickness</th>\n      <th>Insulin</th>\n      <th>BMI</th>\n      <th>DiabetesPedigreeFunction</th>\n      <th>Age</th>\n    </tr>\n  </thead>\n  <tbody>\n    <tr>\n      <th>0</th>\n      <td>0.639947</td>\n      <td>0.848324</td>\n      <td>0.149641</td>\n      <td>0.907270</td>\n      <td>-0.692891</td>\n      <td>0.204013</td>\n      <td>0.468492</td>\n      <td>1.425995</td>\n    </tr>\n    <tr>\n      <th>1</th>\n      <td>-0.844885</td>\n      <td>-1.123396</td>\n      <td>-0.160546</td>\n      <td>0.530902</td>\n      <td>-0.692891</td>\n      <td>-0.684422</td>\n      <td>-0.365061</td>\n      <td>-0.190672</td>\n    </tr>\n    <tr>\n      <th>2</th>\n      <td>1.233880</td>\n      <td>1.943724</td>\n      <td>-0.263941</td>\n      <td>-1.288212</td>\n      <td>-0.692891</td>\n      <td>-1.103255</td>\n      <td>0.604397</td>\n      <td>-0.105584</td>\n    </tr>\n    <tr>\n      <th>3</th>\n      <td>-0.844885</td>\n      <td>-0.998208</td>\n      <td>-0.160546</td>\n      <td>0.154533</td>\n      <td>0.123302</td>\n      <td>-0.494043</td>\n      <td>-0.920763</td>\n      <td>-1.041549</td>\n    </tr>\n    <tr>\n      <th>4</th>\n      <td>-1.141852</td>\n      <td>0.504055</td>\n      <td>-1.504687</td>\n      <td>0.907270</td>\n      <td>0.765836</td>\n      <td>1.409746</td>\n      <td>5.484909</td>\n      <td>-0.020496</td>\n    </tr>\n    <tr>\n      <th>...</th>\n      <td>...</td>\n      <td>...</td>\n      <td>...</td>\n      <td>...</td>\n      <td>...</td>\n      <td>...</td>\n      <td>...</td>\n      <td>...</td>\n    </tr>\n    <tr>\n      <th>763</th>\n      <td>1.827813</td>\n      <td>-0.622642</td>\n      <td>0.356432</td>\n      <td>1.722735</td>\n      <td>0.870031</td>\n      <td>0.115169</td>\n      <td>-0.908682</td>\n      <td>2.532136</td>\n    </tr>\n    <tr>\n      <th>764</th>\n      <td>-0.547919</td>\n      <td>0.034598</td>\n      <td>0.046245</td>\n      <td>0.405445</td>\n      <td>-0.692891</td>\n      <td>0.610154</td>\n      <td>-0.398282</td>\n      <td>-0.531023</td>\n    </tr>\n    <tr>\n      <th>765</th>\n      <td>0.342981</td>\n      <td>0.003301</td>\n      <td>0.149641</td>\n      <td>0.154533</td>\n      <td>0.279594</td>\n      <td>-0.735190</td>\n      <td>-0.685193</td>\n      <td>-0.275760</td>\n    </tr>\n    <tr>\n      <th>766</th>\n      <td>-0.844885</td>\n      <td>0.159787</td>\n      <td>-0.470732</td>\n      <td>-1.288212</td>\n      <td>-0.692891</td>\n      <td>-0.240205</td>\n      <td>-0.371101</td>\n      <td>1.170732</td>\n    </tr>\n    <tr>\n      <th>767</th>\n      <td>-0.844885</td>\n      <td>-0.873019</td>\n      <td>0.046245</td>\n      <td>0.656358</td>\n      <td>-0.692891</td>\n      <td>-0.202129</td>\n      <td>-0.473785</td>\n      <td>-0.871374</td>\n    </tr>\n  </tbody>\n</table>\n<p>768 rows × 8 columns</p>\n</div>"
     },
     "metadata": {},
     "execution_count": 18
    }
   ],
   "source": [
    "def sc(data):\n",
    "    sdc=(data-np.mean(data,axis=0)) / np.std(data,axis=0)\n",
    "    return sdc\n",
    "scald=sc(data_new)\n",
    "scald"
   ]
  },
  {
   "cell_type": "code",
   "execution_count": 19,
   "metadata": {},
   "outputs": [
    {
     "output_type": "execute_result",
     "data": {
      "text/plain": [
       "                          Pregnancies   Glucose  BloodPressure  SkinThickness  \\\n",
       "Pregnancies                  1.000000  0.129459       0.141282      -0.081672   \n",
       "Glucose                      0.129459  1.000000       0.152590       0.057328   \n",
       "BloodPressure                0.141282  0.152590       1.000000       0.207371   \n",
       "SkinThickness               -0.081672  0.057328       0.207371       1.000000   \n",
       "Insulin                     -0.073535  0.331357       0.088933       0.436783   \n",
       "BMI                          0.017683  0.221071       0.281805       0.392573   \n",
       "DiabetesPedigreeFunction    -0.033523  0.137337       0.041265       0.183928   \n",
       "Age                          0.544341  0.263514       0.239528      -0.113970   \n",
       "\n",
       "                           Insulin       BMI  DiabetesPedigreeFunction  \\\n",
       "Pregnancies              -0.073535  0.017683                 -0.033523   \n",
       "Glucose                   0.331357  0.221071                  0.137337   \n",
       "BloodPressure             0.088933  0.281805                  0.041265   \n",
       "SkinThickness             0.436783  0.392573                  0.183928   \n",
       "Insulin                   1.000000  0.197859                  0.185071   \n",
       "BMI                       0.197859  1.000000                  0.140647   \n",
       "DiabetesPedigreeFunction  0.185071  0.140647                  1.000000   \n",
       "Age                      -0.042163  0.036242                  0.033561   \n",
       "\n",
       "                               Age  \n",
       "Pregnancies               0.544341  \n",
       "Glucose                   0.263514  \n",
       "BloodPressure             0.239528  \n",
       "SkinThickness            -0.113970  \n",
       "Insulin                  -0.042163  \n",
       "BMI                       0.036242  \n",
       "DiabetesPedigreeFunction  0.033561  \n",
       "Age                       1.000000  "
      ],
      "text/html": "<div>\n<style scoped>\n    .dataframe tbody tr th:only-of-type {\n        vertical-align: middle;\n    }\n\n    .dataframe tbody tr th {\n        vertical-align: top;\n    }\n\n    .dataframe thead th {\n        text-align: right;\n    }\n</style>\n<table border=\"1\" class=\"dataframe\">\n  <thead>\n    <tr style=\"text-align: right;\">\n      <th></th>\n      <th>Pregnancies</th>\n      <th>Glucose</th>\n      <th>BloodPressure</th>\n      <th>SkinThickness</th>\n      <th>Insulin</th>\n      <th>BMI</th>\n      <th>DiabetesPedigreeFunction</th>\n      <th>Age</th>\n    </tr>\n  </thead>\n  <tbody>\n    <tr>\n      <th>Pregnancies</th>\n      <td>1.000000</td>\n      <td>0.129459</td>\n      <td>0.141282</td>\n      <td>-0.081672</td>\n      <td>-0.073535</td>\n      <td>0.017683</td>\n      <td>-0.033523</td>\n      <td>0.544341</td>\n    </tr>\n    <tr>\n      <th>Glucose</th>\n      <td>0.129459</td>\n      <td>1.000000</td>\n      <td>0.152590</td>\n      <td>0.057328</td>\n      <td>0.331357</td>\n      <td>0.221071</td>\n      <td>0.137337</td>\n      <td>0.263514</td>\n    </tr>\n    <tr>\n      <th>BloodPressure</th>\n      <td>0.141282</td>\n      <td>0.152590</td>\n      <td>1.000000</td>\n      <td>0.207371</td>\n      <td>0.088933</td>\n      <td>0.281805</td>\n      <td>0.041265</td>\n      <td>0.239528</td>\n    </tr>\n    <tr>\n      <th>SkinThickness</th>\n      <td>-0.081672</td>\n      <td>0.057328</td>\n      <td>0.207371</td>\n      <td>1.000000</td>\n      <td>0.436783</td>\n      <td>0.392573</td>\n      <td>0.183928</td>\n      <td>-0.113970</td>\n    </tr>\n    <tr>\n      <th>Insulin</th>\n      <td>-0.073535</td>\n      <td>0.331357</td>\n      <td>0.088933</td>\n      <td>0.436783</td>\n      <td>1.000000</td>\n      <td>0.197859</td>\n      <td>0.185071</td>\n      <td>-0.042163</td>\n    </tr>\n    <tr>\n      <th>BMI</th>\n      <td>0.017683</td>\n      <td>0.221071</td>\n      <td>0.281805</td>\n      <td>0.392573</td>\n      <td>0.197859</td>\n      <td>1.000000</td>\n      <td>0.140647</td>\n      <td>0.036242</td>\n    </tr>\n    <tr>\n      <th>DiabetesPedigreeFunction</th>\n      <td>-0.033523</td>\n      <td>0.137337</td>\n      <td>0.041265</td>\n      <td>0.183928</td>\n      <td>0.185071</td>\n      <td>0.140647</td>\n      <td>1.000000</td>\n      <td>0.033561</td>\n    </tr>\n    <tr>\n      <th>Age</th>\n      <td>0.544341</td>\n      <td>0.263514</td>\n      <td>0.239528</td>\n      <td>-0.113970</td>\n      <td>-0.042163</td>\n      <td>0.036242</td>\n      <td>0.033561</td>\n      <td>1.000000</td>\n    </tr>\n  </tbody>\n</table>\n</div>"
     },
     "metadata": {},
     "execution_count": 19
    }
   ],
   "source": [
    "def covmat(data):\n",
    "    #print(data.shape[0])\n",
    "    covariance=data.T.dot(data)/data.shape[0]\n",
    "    return covariance\n",
    "cov_mat=covmat(scald)\n",
    "cov_mat"
   ]
  },
  {
   "cell_type": "code",
   "execution_count": 20,
   "metadata": {},
   "outputs": [],
   "source": [
    "eignV, eignVe=np.linalg.eig(cov_mat)\n"
   ]
  },
  {
   "cell_type": "code",
   "execution_count": 21,
   "metadata": {},
   "outputs": [
    {
     "output_type": "execute_result",
     "data": {
      "text/plain": [
       "array([2.09437995, 1.73121014, 0.41981618, 0.40446205, 0.68262839,\n",
       "       0.76234439, 0.87552904, 1.02962987])"
      ]
     },
     "metadata": {},
     "execution_count": 21
    }
   ],
   "source": [
    "eignV"
   ]
  },
  {
   "cell_type": "code",
   "execution_count": 22,
   "metadata": {},
   "outputs": [
    {
     "output_type": "execute_result",
     "data": {
      "text/plain": [
       "array([[-0.1284321 , -0.59378583, -0.58879003,  0.11784098, -0.19359817,\n",
       "         0.47560573, -0.08069115,  0.01308692],\n",
       "       [-0.39308257, -0.17402908, -0.06015291,  0.45035526, -0.09416176,\n",
       "        -0.46632804,  0.40432871, -0.46792282],\n",
       "       [-0.36000261, -0.18389207, -0.19211793, -0.01129554,  0.6341159 ,\n",
       "        -0.32795306, -0.05598649,  0.53549442],\n",
       "       [-0.43982428,  0.33196534,  0.28221253,  0.5662838 , -0.00958944,\n",
       "         0.48786206, -0.03797608,  0.2376738 ],\n",
       "       [-0.43502617,  0.25078106, -0.13200992, -0.54862138,  0.27065061,\n",
       "         0.34693481,  0.34994376, -0.33670893],\n",
       "       [-0.45194134,  0.1009598 , -0.03536644, -0.34151764, -0.68537218,\n",
       "        -0.25320376, -0.05364595,  0.36186463],\n",
       "       [-0.27061144,  0.122069  , -0.08609107, -0.00825873,  0.08578409,\n",
       "        -0.11981049, -0.8336801 , -0.43318905],\n",
       "       [-0.19802707, -0.62058853,  0.71208542, -0.21166198,  0.03335717,\n",
       "         0.10928996, -0.0712006 , -0.07524755]])"
      ]
     },
     "metadata": {},
     "execution_count": 22
    }
   ],
   "source": [
    "eignVe"
   ]
  },
  {
   "cell_type": "code",
   "execution_count": 23,
   "metadata": {},
   "outputs": [
    {
     "output_type": "execute_result",
     "data": {
      "text/plain": [
       "[0.2617974931611004,\n",
       " 0.21640126757746536,\n",
       " 0.12870373364801915,\n",
       " 0.10944113047600441,\n",
       " 0.09529304819389635,\n",
       " 0.08532854849331149,\n",
       " 0.05247702246321915,\n",
       " 0.050557755986983685]"
      ]
     },
     "metadata": {},
     "execution_count": 23
    }
   ],
   "source": [
    "totalSum=sum(eignV)\n",
    "percent=[(i/totalSum)for i in sorted(eignV,reverse=True)]\n",
    "percent"
   ]
  },
  {
   "cell_type": "code",
   "execution_count": 24,
   "metadata": {},
   "outputs": [
    {
     "output_type": "execute_result",
     "data": {
      "text/plain": [
       "array([[-0.1284321 , -0.59378583, -0.58879003,  0.11784098],\n",
       "       [-0.39308257, -0.17402908, -0.06015291,  0.45035526],\n",
       "       [-0.36000261, -0.18389207, -0.19211793, -0.01129554],\n",
       "       [-0.43982428,  0.33196534,  0.28221253,  0.5662838 ],\n",
       "       [-0.43502617,  0.25078106, -0.13200992, -0.54862138],\n",
       "       [-0.45194134,  0.1009598 , -0.03536644, -0.34151764],\n",
       "       [-0.27061144,  0.122069  , -0.08609107, -0.00825873],\n",
       "       [-0.19802707, -0.62058853,  0.71208542, -0.21166198]])"
      ]
     },
     "metadata": {},
     "execution_count": 24
    }
   ],
   "source": [
    "pca4c=eignVe[:,:4]\n",
    "pca4c"
   ]
  },
  {
   "cell_type": "code",
   "execution_count": 25,
   "metadata": {},
   "outputs": [
    {
     "output_type": "execute_result",
     "data": {
      "text/plain": [
       "              0          1          2          3\n",
       "0   -125.517107 -58.501100  17.971556  64.303008\n",
       "1    -88.310990 -34.406006  10.906275  38.425973\n",
       "2   -113.050685 -65.791139  -6.109008  67.898731\n",
       "3   -126.784684  -7.185631 -10.594607 -13.134855\n",
       "4   -183.363387   6.703578  -6.448345 -32.824762\n",
       "..          ...        ...        ...        ...\n",
       "763 -195.152985 -12.170291   6.903213 -50.336444\n",
       "764 -107.358556 -39.327566   3.550798  51.392468\n",
       "765 -150.812204 -17.486597 -11.934297  -9.451800\n",
       "766  -94.262143 -59.641143  12.678307  35.954195\n",
       "767  -93.898728 -30.525916   4.393029  43.512027\n",
       "\n",
       "[768 rows x 4 columns]"
      ],
      "text/html": "<div>\n<style scoped>\n    .dataframe tbody tr th:only-of-type {\n        vertical-align: middle;\n    }\n\n    .dataframe tbody tr th {\n        vertical-align: top;\n    }\n\n    .dataframe thead th {\n        text-align: right;\n    }\n</style>\n<table border=\"1\" class=\"dataframe\">\n  <thead>\n    <tr style=\"text-align: right;\">\n      <th></th>\n      <th>0</th>\n      <th>1</th>\n      <th>2</th>\n      <th>3</th>\n    </tr>\n  </thead>\n  <tbody>\n    <tr>\n      <th>0</th>\n      <td>-125.517107</td>\n      <td>-58.501100</td>\n      <td>17.971556</td>\n      <td>64.303008</td>\n    </tr>\n    <tr>\n      <th>1</th>\n      <td>-88.310990</td>\n      <td>-34.406006</td>\n      <td>10.906275</td>\n      <td>38.425973</td>\n    </tr>\n    <tr>\n      <th>2</th>\n      <td>-113.050685</td>\n      <td>-65.791139</td>\n      <td>-6.109008</td>\n      <td>67.898731</td>\n    </tr>\n    <tr>\n      <th>3</th>\n      <td>-126.784684</td>\n      <td>-7.185631</td>\n      <td>-10.594607</td>\n      <td>-13.134855</td>\n    </tr>\n    <tr>\n      <th>4</th>\n      <td>-183.363387</td>\n      <td>6.703578</td>\n      <td>-6.448345</td>\n      <td>-32.824762</td>\n    </tr>\n    <tr>\n      <th>...</th>\n      <td>...</td>\n      <td>...</td>\n      <td>...</td>\n      <td>...</td>\n    </tr>\n    <tr>\n      <th>763</th>\n      <td>-195.152985</td>\n      <td>-12.170291</td>\n      <td>6.903213</td>\n      <td>-50.336444</td>\n    </tr>\n    <tr>\n      <th>764</th>\n      <td>-107.358556</td>\n      <td>-39.327566</td>\n      <td>3.550798</td>\n      <td>51.392468</td>\n    </tr>\n    <tr>\n      <th>765</th>\n      <td>-150.812204</td>\n      <td>-17.486597</td>\n      <td>-11.934297</td>\n      <td>-9.451800</td>\n    </tr>\n    <tr>\n      <th>766</th>\n      <td>-94.262143</td>\n      <td>-59.641143</td>\n      <td>12.678307</td>\n      <td>35.954195</td>\n    </tr>\n    <tr>\n      <th>767</th>\n      <td>-93.898728</td>\n      <td>-30.525916</td>\n      <td>4.393029</td>\n      <td>43.512027</td>\n    </tr>\n  </tbody>\n</table>\n<p>768 rows × 4 columns</p>\n</div>"
     },
     "metadata": {},
     "execution_count": 25
    }
   ],
   "source": [
    "pca4cT=np.transpose(pca4c)\n",
    "dataT=np.transpose(data_new)\n",
    "newdata=np.matmul(pca4cT,dataT)\n",
    "newDataSet=np.transpose(newdata)\n",
    "newDataSet"
   ]
  },
  {
   "cell_type": "code",
   "execution_count": 26,
   "metadata": {},
   "outputs": [],
   "source": [
    "x=newDataSet\n",
    "y=data.iloc[:,8]"
   ]
  },
  {
   "cell_type": "code",
   "execution_count": 27,
   "metadata": {},
   "outputs": [],
   "source": [
    "x_train,x_test,y_train,y_test=train_test_split(x,y,test_size=0.3)"
   ]
  },
  {
   "cell_type": "code",
   "execution_count": 28,
   "metadata": {},
   "outputs": [
    {
     "output_type": "execute_result",
     "data": {
      "text/plain": [
       "DecisionTreeClassifier()"
      ]
     },
     "metadata": {},
     "execution_count": 28
    }
   ],
   "source": [
    "dtc=DecisionTreeClassifier()\n",
    "dtc.fit(x_train,y_train)"
   ]
  },
  {
   "cell_type": "code",
   "execution_count": 29,
   "metadata": {},
   "outputs": [],
   "source": [
    "y_predict=dtc.predict(x_test)"
   ]
  },
  {
   "cell_type": "code",
   "execution_count": 30,
   "metadata": {},
   "outputs": [
    {
     "output_type": "execute_result",
     "data": {
      "text/plain": [
       "0.696969696969697"
      ]
     },
     "metadata": {},
     "execution_count": 30
    }
   ],
   "source": [
    "accuracy_score(y_test,y_predict)"
   ]
  },
  {
   "cell_type": "code",
   "execution_count": 31,
   "metadata": {},
   "outputs": [
    {
     "output_type": "execute_result",
     "data": {
      "text/plain": [
       "array([[124,  36],\n",
       "       [ 34,  37]], dtype=int64)"
      ]
     },
     "metadata": {},
     "execution_count": 31
    }
   ],
   "source": [
    "confusion_matrix(y_test,y_predict)"
   ]
  },
  {
   "cell_type": "code",
   "execution_count": null,
   "metadata": {},
   "outputs": [],
   "source": []
  }
 ]
}