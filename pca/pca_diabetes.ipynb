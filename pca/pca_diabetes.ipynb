{
 "metadata": {
  "language_info": {
   "codemirror_mode": {
    "name": "ipython",
    "version": 3
   },
   "file_extension": ".py",
   "mimetype": "text/x-python",
   "name": "python",
   "nbconvert_exporter": "python",
   "pygments_lexer": "ipython3",
   "version": "3.8.8"
  },
  "orig_nbformat": 2,
  "kernelspec": {
   "name": "python388jvsc74a57bd06164a6e5985db2c0058ac0f11411a3db6fb58fea4711a22e7f80dc1e8b2fc156",
   "display_name": "Python 3.8.8 64-bit ('Tgpu': conda)"
  }
 },
 "nbformat": 4,
 "nbformat_minor": 2,
 "cells": [
  {
   "cell_type": "code",
   "execution_count": 21,
   "metadata": {},
   "outputs": [],
   "source": [
    "import numpy as np\n",
    "import pandas as pd\n",
    "from sklearn.model_selection import train_test_split\n",
    "from sklearn.tree import DecisionTreeClassifier\n",
    "from sklearn.metrics import accuracy_score,confusion_matrix"
   ]
  },
  {
   "cell_type": "code",
   "execution_count": 3,
   "metadata": {},
   "outputs": [
    {
     "output_type": "execute_result",
     "data": {
      "text/plain": [
       "   Pregnancies  Glucose  BloodPressure  SkinThickness  Insulin   BMI  \\\n",
       "0            6      148             72             35        0  33.6   \n",
       "1            1       85             66             29        0  26.6   \n",
       "2            8      183             64              0        0  23.3   \n",
       "3            1       89             66             23       94  28.1   \n",
       "4            0      137             40             35      168  43.1   \n",
       "\n",
       "   DiabetesPedigreeFunction  Age  Outcome  \n",
       "0                     0.627   50        1  \n",
       "1                     0.351   31        0  \n",
       "2                     0.672   32        1  \n",
       "3                     0.167   21        0  \n",
       "4                     2.288   33        1  "
      ],
      "text/html": "<div>\n<style scoped>\n    .dataframe tbody tr th:only-of-type {\n        vertical-align: middle;\n    }\n\n    .dataframe tbody tr th {\n        vertical-align: top;\n    }\n\n    .dataframe thead th {\n        text-align: right;\n    }\n</style>\n<table border=\"1\" class=\"dataframe\">\n  <thead>\n    <tr style=\"text-align: right;\">\n      <th></th>\n      <th>Pregnancies</th>\n      <th>Glucose</th>\n      <th>BloodPressure</th>\n      <th>SkinThickness</th>\n      <th>Insulin</th>\n      <th>BMI</th>\n      <th>DiabetesPedigreeFunction</th>\n      <th>Age</th>\n      <th>Outcome</th>\n    </tr>\n  </thead>\n  <tbody>\n    <tr>\n      <th>0</th>\n      <td>6</td>\n      <td>148</td>\n      <td>72</td>\n      <td>35</td>\n      <td>0</td>\n      <td>33.6</td>\n      <td>0.627</td>\n      <td>50</td>\n      <td>1</td>\n    </tr>\n    <tr>\n      <th>1</th>\n      <td>1</td>\n      <td>85</td>\n      <td>66</td>\n      <td>29</td>\n      <td>0</td>\n      <td>26.6</td>\n      <td>0.351</td>\n      <td>31</td>\n      <td>0</td>\n    </tr>\n    <tr>\n      <th>2</th>\n      <td>8</td>\n      <td>183</td>\n      <td>64</td>\n      <td>0</td>\n      <td>0</td>\n      <td>23.3</td>\n      <td>0.672</td>\n      <td>32</td>\n      <td>1</td>\n    </tr>\n    <tr>\n      <th>3</th>\n      <td>1</td>\n      <td>89</td>\n      <td>66</td>\n      <td>23</td>\n      <td>94</td>\n      <td>28.1</td>\n      <td>0.167</td>\n      <td>21</td>\n      <td>0</td>\n    </tr>\n    <tr>\n      <th>4</th>\n      <td>0</td>\n      <td>137</td>\n      <td>40</td>\n      <td>35</td>\n      <td>168</td>\n      <td>43.1</td>\n      <td>2.288</td>\n      <td>33</td>\n      <td>1</td>\n    </tr>\n  </tbody>\n</table>\n</div>"
     },
     "metadata": {},
     "execution_count": 3
    }
   ],
   "source": [
    "data=pd.read_csv('diabetes.csv')\n",
    "data.head()"
   ]
  },
  {
   "cell_type": "code",
   "execution_count": 11,
   "metadata": {},
   "outputs": [
    {
     "output_type": "execute_result",
     "data": {
      "text/plain": [
       "array([[  6.   , 148.   ,  72.   , ...,  33.6  ,   0.627,  50.   ],\n",
       "       [  1.   ,  85.   ,  66.   , ...,  26.6  ,   0.351,  31.   ],\n",
       "       [  8.   , 183.   ,  64.   , ...,  23.3  ,   0.672,  32.   ],\n",
       "       ...,\n",
       "       [  5.   , 121.   ,  72.   , ...,  26.2  ,   0.245,  30.   ],\n",
       "       [  1.   , 126.   ,  60.   , ...,  30.1  ,   0.349,  47.   ],\n",
       "       [  1.   ,  93.   ,  70.   , ...,  30.4  ,   0.315,  23.   ]])"
      ]
     },
     "metadata": {},
     "execution_count": 11
    }
   ],
   "source": [
    "data_n=data.iloc[:,:-1]\n",
    "data_new=np.array(data_n)\n",
    "data_new"
   ]
  },
  {
   "cell_type": "code",
   "execution_count": 13,
   "metadata": {},
   "outputs": [
    {
     "output_type": "execute_result",
     "data": {
      "text/plain": [
       "           0            1           2           3             4           5  \\\n",
       "0  11.354056    13.947131    9.214538   -4.390041    -28.555231    0.469774   \n",
       "1  13.947131  1022.248314   94.430956   29.239183   1220.935799   55.726987   \n",
       "2   9.214538    94.430956  374.647271   64.029396    198.378412   43.004695   \n",
       "3  -4.390041    29.239183   64.029396  254.473245    802.979941   49.373869   \n",
       "4 -28.555231  1220.935799  198.378412  802.979941  13281.180078  179.775172   \n",
       "5   0.469774    55.726987   43.004695   49.373869    179.775172   62.159984   \n",
       "6  -0.037426     1.454875    0.264638    0.972136      7.066681    0.367405   \n",
       "7  21.570620    99.082805   54.523453  -21.381023    -57.143290    3.360330   \n",
       "\n",
       "          6           7  \n",
       "0 -0.037426   21.570620  \n",
       "1  1.454875   99.082805  \n",
       "2  0.264638   54.523453  \n",
       "3  0.972136  -21.381023  \n",
       "4  7.066681  -57.143290  \n",
       "5  0.367405    3.360330  \n",
       "6  0.109779    0.130772  \n",
       "7  0.130772  138.303046  "
      ],
      "text/html": "<div>\n<style scoped>\n    .dataframe tbody tr th:only-of-type {\n        vertical-align: middle;\n    }\n\n    .dataframe tbody tr th {\n        vertical-align: top;\n    }\n\n    .dataframe thead th {\n        text-align: right;\n    }\n</style>\n<table border=\"1\" class=\"dataframe\">\n  <thead>\n    <tr style=\"text-align: right;\">\n      <th></th>\n      <th>0</th>\n      <th>1</th>\n      <th>2</th>\n      <th>3</th>\n      <th>4</th>\n      <th>5</th>\n      <th>6</th>\n      <th>7</th>\n    </tr>\n  </thead>\n  <tbody>\n    <tr>\n      <th>0</th>\n      <td>11.354056</td>\n      <td>13.947131</td>\n      <td>9.214538</td>\n      <td>-4.390041</td>\n      <td>-28.555231</td>\n      <td>0.469774</td>\n      <td>-0.037426</td>\n      <td>21.570620</td>\n    </tr>\n    <tr>\n      <th>1</th>\n      <td>13.947131</td>\n      <td>1022.248314</td>\n      <td>94.430956</td>\n      <td>29.239183</td>\n      <td>1220.935799</td>\n      <td>55.726987</td>\n      <td>1.454875</td>\n      <td>99.082805</td>\n    </tr>\n    <tr>\n      <th>2</th>\n      <td>9.214538</td>\n      <td>94.430956</td>\n      <td>374.647271</td>\n      <td>64.029396</td>\n      <td>198.378412</td>\n      <td>43.004695</td>\n      <td>0.264638</td>\n      <td>54.523453</td>\n    </tr>\n    <tr>\n      <th>3</th>\n      <td>-4.390041</td>\n      <td>29.239183</td>\n      <td>64.029396</td>\n      <td>254.473245</td>\n      <td>802.979941</td>\n      <td>49.373869</td>\n      <td>0.972136</td>\n      <td>-21.381023</td>\n    </tr>\n    <tr>\n      <th>4</th>\n      <td>-28.555231</td>\n      <td>1220.935799</td>\n      <td>198.378412</td>\n      <td>802.979941</td>\n      <td>13281.180078</td>\n      <td>179.775172</td>\n      <td>7.066681</td>\n      <td>-57.143290</td>\n    </tr>\n    <tr>\n      <th>5</th>\n      <td>0.469774</td>\n      <td>55.726987</td>\n      <td>43.004695</td>\n      <td>49.373869</td>\n      <td>179.775172</td>\n      <td>62.159984</td>\n      <td>0.367405</td>\n      <td>3.360330</td>\n    </tr>\n    <tr>\n      <th>6</th>\n      <td>-0.037426</td>\n      <td>1.454875</td>\n      <td>0.264638</td>\n      <td>0.972136</td>\n      <td>7.066681</td>\n      <td>0.367405</td>\n      <td>0.109779</td>\n      <td>0.130772</td>\n    </tr>\n    <tr>\n      <th>7</th>\n      <td>21.570620</td>\n      <td>99.082805</td>\n      <td>54.523453</td>\n      <td>-21.381023</td>\n      <td>-57.143290</td>\n      <td>3.360330</td>\n      <td>0.130772</td>\n      <td>138.303046</td>\n    </tr>\n  </tbody>\n</table>\n</div>"
     },
     "metadata": {},
     "execution_count": 13
    }
   ],
   "source": [
    "covMat=pd.DataFrame(data=np.cov(data_new,rowvar=False))\n",
    "covMat"
   ]
  },
  {
   "cell_type": "code",
   "execution_count": 14,
   "metadata": {},
   "outputs": [],
   "source": [
    "eignV, eignVe=np.linalg.eig(covMat)"
   ]
  },
  {
   "cell_type": "code",
   "execution_count": 15,
   "metadata": {},
   "outputs": [
    {
     "output_type": "execute_result",
     "data": {
      "text/plain": [
       "array([1.34565730e+04, 9.32760132e+02, 3.90577831e+02, 1.98182691e+02,\n",
       "       1.12689115e+02, 4.58294431e+01, 7.76070899e+00, 1.02871018e-01])"
      ]
     },
     "metadata": {},
     "execution_count": 15
    }
   ],
   "source": [
    "eignV"
   ]
  },
  {
   "cell_type": "code",
   "execution_count": 16,
   "metadata": {},
   "outputs": [
    {
     "output_type": "execute_result",
     "data": {
      "text/plain": [
       "array([[-2.02176587e-03,  2.26488861e-02, -2.24649003e-02,\n",
       "        -4.90459604e-02, -1.51612874e-01, -5.04730888e-03,\n",
       "         9.86672995e-01, -6.10123250e-03],\n",
       "       [ 9.78115765e-02,  9.72210040e-01,  1.43428710e-01,\n",
       "         1.19830016e-01,  8.79407680e-02,  5.07391813e-02,\n",
       "         8.83426114e-04,  8.25459539e-04],\n",
       "       [ 1.60930503e-02,  1.41909330e-01, -9.22467192e-01,\n",
       "        -2.62742788e-01,  2.32165009e-01,  7.56365525e-02,\n",
       "        -1.22975947e-03, -5.20865450e-04],\n",
       "       [ 6.07566861e-02, -5.78614699e-02, -3.07013055e-01,\n",
       "         8.84369380e-01, -2.59973487e-01,  2.21363068e-01,\n",
       "        -3.76444746e-04,  2.54871909e-03],\n",
       "       [ 9.93110844e-01, -9.46266913e-02,  2.09773019e-02,\n",
       "        -6.55503615e-02,  1.72312241e-04, -6.13326472e-03,\n",
       "         1.42307394e-03,  2.68965921e-04],\n",
       "       [ 1.40108085e-02,  4.69729766e-02, -1.32444542e-01,\n",
       "         1.92801728e-01, -2.14744823e-02, -9.70776708e-01,\n",
       "        -2.73046214e-03,  2.67341863e-03],\n",
       "       [ 5.37167919e-04,  8.16804621e-04, -6.39983017e-04,\n",
       "         2.69908637e-03, -1.64080684e-03, -2.02903702e-03,\n",
       "        -6.34402965e-03, -9.99972146e-01],\n",
       "       [-3.56474430e-03,  1.40168181e-01, -1.25454310e-01,\n",
       "        -3.01024330e-01, -9.20504903e-01, -1.51133239e-02,\n",
       "        -1.62555343e-01,  1.95271966e-03]])"
      ]
     },
     "metadata": {},
     "execution_count": 16
    }
   ],
   "source": [
    "eignVe"
   ]
  },
  {
   "cell_type": "code",
   "execution_count": 55,
   "metadata": {},
   "outputs": [
    {
     "output_type": "execute_result",
     "data": {
      "text/plain": [
       "[0.888546634575624,\n",
       " 0.06159078374587651,\n",
       " 0.025790118917661545,\n",
       " 0.013086137415140801,\n",
       " 0.007440938639887567,\n",
       " 0.0030261491882255707,\n",
       " 0.0005124448745698516,\n",
       " 6.79264301407264e-06]"
      ]
     },
     "metadata": {},
     "execution_count": 55
    }
   ],
   "source": [
    "totalSum=sum(eignV)\n",
    "percent=[(i/totalSum)for i in sorted(eignV,reverse=True)]\n",
    "percent"
   ]
  },
  {
   "cell_type": "code",
   "execution_count": 47,
   "metadata": {},
   "outputs": [
    {
     "output_type": "execute_result",
     "data": {
      "text/plain": [
       "array([[-2.02176587e-03,  2.26488861e-02, -2.24649003e-02,\n",
       "        -4.90459604e-02],\n",
       "       [ 9.78115765e-02,  9.72210040e-01,  1.43428710e-01,\n",
       "         1.19830016e-01],\n",
       "       [ 1.60930503e-02,  1.41909330e-01, -9.22467192e-01,\n",
       "        -2.62742788e-01],\n",
       "       [ 6.07566861e-02, -5.78614699e-02, -3.07013055e-01,\n",
       "         8.84369380e-01],\n",
       "       [ 9.93110844e-01, -9.46266913e-02,  2.09773019e-02,\n",
       "        -6.55503615e-02],\n",
       "       [ 1.40108085e-02,  4.69729766e-02, -1.32444542e-01,\n",
       "         1.92801728e-01],\n",
       "       [ 5.37167919e-04,  8.16804621e-04, -6.39983017e-04,\n",
       "         2.69908637e-03],\n",
       "       [-3.56474430e-03,  1.40168181e-01, -1.25454310e-01,\n",
       "        -3.01024330e-01]])"
      ]
     },
     "metadata": {},
     "execution_count": 47
    }
   ],
   "source": [
    "pca4c=eignVe[:,:4]\n",
    "pca4c"
   ]
  },
  {
   "cell_type": "code",
   "execution_count": 48,
   "metadata": {},
   "outputs": [
    {
     "output_type": "execute_result",
     "data": {
      "text/plain": [
       "array([[ 18.04202911, 160.80251286, -66.79368843,  20.90462808],\n",
       "       [ 11.39841643,  95.943517  , -65.02957086,  14.23991254],\n",
       "       [ 19.12604059, 192.75822668, -40.07109135,  -0.41769765],\n",
       "       ...,\n",
       "       [125.86988229, 121.47506542, -61.12076394,   4.35691332],\n",
       "       [ 13.54218971, 139.03774998, -47.18163558,  -9.05890071],\n",
       "       [ 12.4485343 , 103.23023416, -67.6856678 ,  19.05706431]])"
      ]
     },
     "metadata": {},
     "execution_count": 48
    }
   ],
   "source": [
    "pca4cT=np.transpose(pca4c)\n",
    "dataT=np.transpose(data_new)\n",
    "newdata=np.matmul(pca4cT,dataT)\n",
    "newDataSet=np.transpose(newdata)\n",
    "newDataSet"
   ]
  },
  {
   "cell_type": "code",
   "execution_count": 49,
   "metadata": {},
   "outputs": [],
   "source": [
    "x=newDataSet\n",
    "y=data.iloc[:,8]"
   ]
  },
  {
   "cell_type": "code",
   "execution_count": 50,
   "metadata": {},
   "outputs": [],
   "source": [
    "x_train,x_test,y_train,y_test=train_test_split(x,y,test_size=0.3)"
   ]
  },
  {
   "cell_type": "code",
   "execution_count": 51,
   "metadata": {},
   "outputs": [
    {
     "output_type": "execute_result",
     "data": {
      "text/plain": [
       "DecisionTreeClassifier()"
      ]
     },
     "metadata": {},
     "execution_count": 51
    }
   ],
   "source": [
    "dtc=DecisionTreeClassifier()\n",
    "dtc.fit(x_train,y_train)"
   ]
  },
  {
   "cell_type": "code",
   "execution_count": 52,
   "metadata": {},
   "outputs": [],
   "source": [
    "y_predict=dtc.predict(x_test)"
   ]
  },
  {
   "cell_type": "code",
   "execution_count": 53,
   "metadata": {},
   "outputs": [
    {
     "output_type": "execute_result",
     "data": {
      "text/plain": [
       "0.6493506493506493"
      ]
     },
     "metadata": {},
     "execution_count": 53
    }
   ],
   "source": [
    "accuracy_score(y_test,y_predict)"
   ]
  },
  {
   "cell_type": "code",
   "execution_count": 54,
   "metadata": {},
   "outputs": [
    {
     "output_type": "execute_result",
     "data": {
      "text/plain": [
       "array([[109,  45],\n",
       "       [ 36,  41]], dtype=int64)"
      ]
     },
     "metadata": {},
     "execution_count": 54
    }
   ],
   "source": [
    "confusion_matrix(y_test,y_predict)"
   ]
  },
  {
   "cell_type": "code",
   "execution_count": null,
   "metadata": {},
   "outputs": [],
   "source": []
  }
 ]
}