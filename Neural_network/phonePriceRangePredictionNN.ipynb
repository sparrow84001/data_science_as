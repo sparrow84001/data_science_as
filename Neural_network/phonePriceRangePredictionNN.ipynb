{
 "metadata": {
  "language_info": {
   "codemirror_mode": {
    "name": "ipython",
    "version": 3
   },
   "file_extension": ".py",
   "mimetype": "text/x-python",
   "name": "python",
   "nbconvert_exporter": "python",
   "pygments_lexer": "ipython3",
   "version": "3.8.10"
  },
  "orig_nbformat": 4,
  "kernelspec": {
   "name": "python3",
   "display_name": "Python 3.8.10 64-bit ('Tgpu': conda)"
  },
  "interpreter": {
   "hash": "6164a6e5985db2c0058ac0f11411a3db6fb58fea4711a22e7f80dc1e8b2fc156"
  }
 },
 "nbformat": 4,
 "nbformat_minor": 2,
 "cells": [
  {
   "cell_type": "code",
   "execution_count": 1,
   "metadata": {},
   "outputs": [],
   "source": [
    "from tensorflow.keras import Sequential\n",
    "from tensorflow.keras.layers import Dense\n",
    "import pandas as pd\n",
    "import numpy as np\n",
    "from sklearn.preprocessing import StandardScaler,OneHotEncoder\n",
    "from sklearn.model_selection import train_test_split\n",
    "from sklearn.metrics import accuracy_score"
   ]
  },
  {
   "cell_type": "code",
   "execution_count": 2,
   "metadata": {},
   "outputs": [
    {
     "output_type": "execute_result",
     "data": {
      "text/plain": [
       "   battery_power  blue  clock_speed  dual_sim  fc  four_g  int_memory  m_dep  \\\n",
       "0            842     0          2.2         0   1       0           7    0.6   \n",
       "1           1021     1          0.5         1   0       1          53    0.7   \n",
       "2            563     1          0.5         1   2       1          41    0.9   \n",
       "3            615     1          2.5         0   0       0          10    0.8   \n",
       "4           1821     1          1.2         0  13       1          44    0.6   \n",
       "\n",
       "   mobile_wt  n_cores  ...  px_height  px_width   ram  sc_h  sc_w  talk_time  \\\n",
       "0        188        2  ...         20       756  2549     9     7         19   \n",
       "1        136        3  ...        905      1988  2631    17     3          7   \n",
       "2        145        5  ...       1263      1716  2603    11     2          9   \n",
       "3        131        6  ...       1216      1786  2769    16     8         11   \n",
       "4        141        2  ...       1208      1212  1411     8     2         15   \n",
       "\n",
       "   three_g  touch_screen  wifi  price_range  \n",
       "0        0             0     1            1  \n",
       "1        1             1     0            2  \n",
       "2        1             1     0            2  \n",
       "3        1             0     0            2  \n",
       "4        1             1     0            1  \n",
       "\n",
       "[5 rows x 21 columns]"
      ],
      "text/html": "<div>\n<style scoped>\n    .dataframe tbody tr th:only-of-type {\n        vertical-align: middle;\n    }\n\n    .dataframe tbody tr th {\n        vertical-align: top;\n    }\n\n    .dataframe thead th {\n        text-align: right;\n    }\n</style>\n<table border=\"1\" class=\"dataframe\">\n  <thead>\n    <tr style=\"text-align: right;\">\n      <th></th>\n      <th>battery_power</th>\n      <th>blue</th>\n      <th>clock_speed</th>\n      <th>dual_sim</th>\n      <th>fc</th>\n      <th>four_g</th>\n      <th>int_memory</th>\n      <th>m_dep</th>\n      <th>mobile_wt</th>\n      <th>n_cores</th>\n      <th>...</th>\n      <th>px_height</th>\n      <th>px_width</th>\n      <th>ram</th>\n      <th>sc_h</th>\n      <th>sc_w</th>\n      <th>talk_time</th>\n      <th>three_g</th>\n      <th>touch_screen</th>\n      <th>wifi</th>\n      <th>price_range</th>\n    </tr>\n  </thead>\n  <tbody>\n    <tr>\n      <th>0</th>\n      <td>842</td>\n      <td>0</td>\n      <td>2.2</td>\n      <td>0</td>\n      <td>1</td>\n      <td>0</td>\n      <td>7</td>\n      <td>0.6</td>\n      <td>188</td>\n      <td>2</td>\n      <td>...</td>\n      <td>20</td>\n      <td>756</td>\n      <td>2549</td>\n      <td>9</td>\n      <td>7</td>\n      <td>19</td>\n      <td>0</td>\n      <td>0</td>\n      <td>1</td>\n      <td>1</td>\n    </tr>\n    <tr>\n      <th>1</th>\n      <td>1021</td>\n      <td>1</td>\n      <td>0.5</td>\n      <td>1</td>\n      <td>0</td>\n      <td>1</td>\n      <td>53</td>\n      <td>0.7</td>\n      <td>136</td>\n      <td>3</td>\n      <td>...</td>\n      <td>905</td>\n      <td>1988</td>\n      <td>2631</td>\n      <td>17</td>\n      <td>3</td>\n      <td>7</td>\n      <td>1</td>\n      <td>1</td>\n      <td>0</td>\n      <td>2</td>\n    </tr>\n    <tr>\n      <th>2</th>\n      <td>563</td>\n      <td>1</td>\n      <td>0.5</td>\n      <td>1</td>\n      <td>2</td>\n      <td>1</td>\n      <td>41</td>\n      <td>0.9</td>\n      <td>145</td>\n      <td>5</td>\n      <td>...</td>\n      <td>1263</td>\n      <td>1716</td>\n      <td>2603</td>\n      <td>11</td>\n      <td>2</td>\n      <td>9</td>\n      <td>1</td>\n      <td>1</td>\n      <td>0</td>\n      <td>2</td>\n    </tr>\n    <tr>\n      <th>3</th>\n      <td>615</td>\n      <td>1</td>\n      <td>2.5</td>\n      <td>0</td>\n      <td>0</td>\n      <td>0</td>\n      <td>10</td>\n      <td>0.8</td>\n      <td>131</td>\n      <td>6</td>\n      <td>...</td>\n      <td>1216</td>\n      <td>1786</td>\n      <td>2769</td>\n      <td>16</td>\n      <td>8</td>\n      <td>11</td>\n      <td>1</td>\n      <td>0</td>\n      <td>0</td>\n      <td>2</td>\n    </tr>\n    <tr>\n      <th>4</th>\n      <td>1821</td>\n      <td>1</td>\n      <td>1.2</td>\n      <td>0</td>\n      <td>13</td>\n      <td>1</td>\n      <td>44</td>\n      <td>0.6</td>\n      <td>141</td>\n      <td>2</td>\n      <td>...</td>\n      <td>1208</td>\n      <td>1212</td>\n      <td>1411</td>\n      <td>8</td>\n      <td>2</td>\n      <td>15</td>\n      <td>1</td>\n      <td>1</td>\n      <td>0</td>\n      <td>1</td>\n    </tr>\n  </tbody>\n</table>\n<p>5 rows × 21 columns</p>\n</div>"
     },
     "metadata": {},
     "execution_count": 2
    }
   ],
   "source": [
    "data=pd.read_csv(\"train.csv\")\n",
    "data.head()"
   ]
  },
  {
   "cell_type": "code",
   "execution_count": 3,
   "metadata": {},
   "outputs": [],
   "source": [
    "x=data.iloc[:,:20].values\n",
    "y=data.iloc[:,20:21].values\n",
    "#print(y)"
   ]
  },
  {
   "cell_type": "code",
   "execution_count": 4,
   "metadata": {},
   "outputs": [],
   "source": [
    "sc= StandardScaler()\n",
    "x=sc.fit_transform(x)"
   ]
  },
  {
   "cell_type": "code",
   "execution_count": 5,
   "metadata": {},
   "outputs": [
    {
     "output_type": "stream",
     "name": "stdout",
     "text": [
      "[[-0.90259726 -0.9900495   0.83077942 ... -1.78686097 -1.00601811\n   0.98609664]\n [-0.49513857  1.0100505  -1.2530642  ...  0.55964063  0.99401789\n  -1.01409939]\n [-1.5376865   1.0100505  -1.2530642  ...  0.55964063  0.99401789\n  -1.01409939]\n ...\n [ 1.53077336 -0.9900495  -0.76274805 ...  0.55964063  0.99401789\n  -1.01409939]\n [ 0.62252745 -0.9900495  -0.76274805 ...  0.55964063  0.99401789\n   0.98609664]\n [-1.65833069  1.0100505   0.58562134 ...  0.55964063  0.99401789\n   0.98609664]]\n"
     ]
    }
   ],
   "source": [
    "print(x)"
   ]
  },
  {
   "cell_type": "code",
   "execution_count": 6,
   "metadata": {},
   "outputs": [],
   "source": [
    "ohe=OneHotEncoder()\n",
    "y=ohe.fit_transform(y).toarray()"
   ]
  },
  {
   "cell_type": "code",
   "execution_count": 7,
   "metadata": {},
   "outputs": [
    {
     "output_type": "execute_result",
     "data": {
      "text/plain": [
       "array([[0., 1., 0., 0.],\n",
       "       [0., 0., 1., 0.],\n",
       "       [0., 0., 1., 0.],\n",
       "       ...,\n",
       "       [0., 0., 0., 1.],\n",
       "       [1., 0., 0., 0.],\n",
       "       [0., 0., 0., 1.]])"
      ]
     },
     "metadata": {},
     "execution_count": 7
    }
   ],
   "source": [
    "y"
   ]
  },
  {
   "cell_type": "code",
   "execution_count": 8,
   "metadata": {},
   "outputs": [],
   "source": [
    "x_train, x_test, y_train, y_test=train_test_split(x,y,test_size=0.1)"
   ]
  },
  {
   "cell_type": "code",
   "execution_count": 9,
   "metadata": {},
   "outputs": [],
   "source": [
    "#nn\n",
    "nn=Sequential()\n",
    "nn.add(Dense(16, input_dim=20, activation=\"relu\"))\n",
    "nn.add(Dense(12, activation=\"relu\"))\n",
    "nn.add(Dense(4,activation=\"softmax\"))"
   ]
  },
  {
   "cell_type": "code",
   "execution_count": 10,
   "metadata": {},
   "outputs": [],
   "source": [
    "nn.compile(loss='categorical_crossentropy',optimizer='adam',metrics=['accuracy'])"
   ]
  },
  {
   "cell_type": "code",
   "execution_count": 11,
   "metadata": {
    "tags": []
   },
   "outputs": [
    {
     "output_type": "stream",
     "name": "stdout",
     "text": [
      "Epoch 1/100\n",
      "29/29 [==============================] - 1s 1ms/step - loss: 1.6142 - accuracy: 0.2294\n",
      "Epoch 2/100\n",
      "29/29 [==============================] - 0s 1ms/step - loss: 1.4794 - accuracy: 0.2350\n",
      "Epoch 3/100\n",
      "29/29 [==============================] - 0s 1ms/step - loss: 1.4141 - accuracy: 0.2728\n",
      "Epoch 4/100\n",
      "29/29 [==============================] - 0s 1ms/step - loss: 1.3680 - accuracy: 0.3050\n",
      "Epoch 5/100\n",
      "29/29 [==============================] - 0s 1ms/step - loss: 1.3263 - accuracy: 0.3483\n",
      "Epoch 6/100\n",
      "29/29 [==============================] - 0s 1ms/step - loss: 1.2795 - accuracy: 0.3700\n",
      "Epoch 7/100\n",
      "29/29 [==============================] - 0s 1ms/step - loss: 1.2233 - accuracy: 0.4056\n",
      "Epoch 8/100\n",
      "29/29 [==============================] - 0s 1ms/step - loss: 1.1471 - accuracy: 0.4522\n",
      "Epoch 9/100\n",
      "29/29 [==============================] - 0s 1ms/step - loss: 1.0559 - accuracy: 0.5178\n",
      "Epoch 10/100\n",
      "29/29 [==============================] - 0s 1ms/step - loss: 0.9604 - accuracy: 0.5650\n",
      "Epoch 11/100\n",
      "29/29 [==============================] - 0s 1ms/step - loss: 0.8731 - accuracy: 0.6183\n",
      "Epoch 12/100\n",
      "29/29 [==============================] - 0s 1ms/step - loss: 0.7952 - accuracy: 0.6744\n",
      "Epoch 13/100\n",
      "29/29 [==============================] - 0s 1ms/step - loss: 0.7273 - accuracy: 0.7089\n",
      "Epoch 14/100\n",
      "29/29 [==============================] - 0s 2ms/step - loss: 0.6689 - accuracy: 0.7400\n",
      "Epoch 15/100\n",
      "29/29 [==============================] - 0s 1ms/step - loss: 0.6174 - accuracy: 0.7711\n",
      "Epoch 16/100\n",
      "29/29 [==============================] - 0s 1ms/step - loss: 0.5719 - accuracy: 0.7983\n",
      "Epoch 17/100\n",
      "29/29 [==============================] - 0s 2ms/step - loss: 0.5307 - accuracy: 0.8122\n",
      "Epoch 18/100\n",
      "29/29 [==============================] - 0s 1ms/step - loss: 0.4936 - accuracy: 0.8372\n",
      "Epoch 19/100\n",
      "29/29 [==============================] - 0s 1ms/step - loss: 0.4602 - accuracy: 0.8578\n",
      "Epoch 20/100\n",
      "29/29 [==============================] - 0s 1ms/step - loss: 0.4301 - accuracy: 0.8694\n",
      "Epoch 21/100\n",
      "29/29 [==============================] - 0s 1ms/step - loss: 0.4033 - accuracy: 0.8806\n",
      "Epoch 22/100\n",
      "29/29 [==============================] - 0s 1ms/step - loss: 0.3791 - accuracy: 0.8772\n",
      "Epoch 23/100\n",
      "29/29 [==============================] - 0s 1ms/step - loss: 0.3568 - accuracy: 0.8911\n",
      "Epoch 24/100\n",
      "29/29 [==============================] - 0s 1ms/step - loss: 0.3359 - accuracy: 0.8989\n",
      "Epoch 25/100\n",
      "29/29 [==============================] - 0s 1ms/step - loss: 0.3172 - accuracy: 0.9111\n",
      "Epoch 26/100\n",
      "29/29 [==============================] - 0s 1ms/step - loss: 0.2998 - accuracy: 0.9122\n",
      "Epoch 27/100\n",
      "29/29 [==============================] - 0s 1ms/step - loss: 0.2860 - accuracy: 0.9167\n",
      "Epoch 28/100\n",
      "29/29 [==============================] - 0s 1ms/step - loss: 0.2702 - accuracy: 0.9189\n",
      "Epoch 29/100\n",
      "29/29 [==============================] - 0s 1ms/step - loss: 0.2580 - accuracy: 0.9217\n",
      "Epoch 30/100\n",
      "29/29 [==============================] - 0s 1ms/step - loss: 0.2466 - accuracy: 0.9233\n",
      "Epoch 31/100\n",
      "29/29 [==============================] - 0s 1ms/step - loss: 0.2362 - accuracy: 0.9311\n",
      "Epoch 32/100\n",
      "29/29 [==============================] - 0s 1ms/step - loss: 0.2262 - accuracy: 0.9311\n",
      "Epoch 33/100\n",
      "29/29 [==============================] - 0s 1ms/step - loss: 0.2181 - accuracy: 0.9328\n",
      "Epoch 34/100\n",
      "29/29 [==============================] - 0s 2ms/step - loss: 0.2090 - accuracy: 0.9317\n",
      "Epoch 35/100\n",
      "29/29 [==============================] - 0s 2ms/step - loss: 0.2016 - accuracy: 0.9372\n",
      "Epoch 36/100\n",
      "29/29 [==============================] - 0s 2ms/step - loss: 0.1946 - accuracy: 0.9406\n",
      "Epoch 37/100\n",
      "29/29 [==============================] - 0s 2ms/step - loss: 0.1886 - accuracy: 0.9433\n",
      "Epoch 38/100\n",
      "29/29 [==============================] - 0s 2ms/step - loss: 0.1822 - accuracy: 0.9461\n",
      "Epoch 39/100\n",
      "29/29 [==============================] - 0s 3ms/step - loss: 0.1777 - accuracy: 0.9461\n",
      "Epoch 40/100\n",
      "29/29 [==============================] - 0s 2ms/step - loss: 0.1711 - accuracy: 0.9500\n",
      "Epoch 41/100\n",
      "29/29 [==============================] - 0s 2ms/step - loss: 0.1671 - accuracy: 0.9494\n",
      "Epoch 42/100\n",
      "29/29 [==============================] - 0s 1ms/step - loss: 0.1621 - accuracy: 0.9528\n",
      "Epoch 43/100\n",
      "29/29 [==============================] - 0s 1ms/step - loss: 0.1583 - accuracy: 0.9522\n",
      "Epoch 44/100\n",
      "29/29 [==============================] - 0s 2ms/step - loss: 0.1536 - accuracy: 0.9578\n",
      "Epoch 45/100\n",
      "29/29 [==============================] - 0s 1ms/step - loss: 0.1489 - accuracy: 0.9594\n",
      "Epoch 46/100\n",
      "29/29 [==============================] - 0s 1ms/step - loss: 0.1456 - accuracy: 0.9550\n",
      "Epoch 47/100\n",
      "29/29 [==============================] - 0s 1ms/step - loss: 0.1417 - accuracy: 0.9578\n",
      "Epoch 48/100\n",
      "29/29 [==============================] - 0s 2ms/step - loss: 0.1386 - accuracy: 0.9572\n",
      "Epoch 49/100\n",
      "29/29 [==============================] - 0s 2ms/step - loss: 0.1335 - accuracy: 0.9617\n",
      "Epoch 50/100\n",
      "29/29 [==============================] - 0s 1ms/step - loss: 0.1319 - accuracy: 0.9567\n",
      "Epoch 51/100\n",
      "29/29 [==============================] - 0s 1ms/step - loss: 0.1290 - accuracy: 0.9617\n",
      "Epoch 52/100\n",
      "29/29 [==============================] - 0s 1ms/step - loss: 0.1250 - accuracy: 0.9628\n",
      "Epoch 53/100\n",
      "29/29 [==============================] - 0s 2ms/step - loss: 0.1217 - accuracy: 0.9617\n",
      "Epoch 54/100\n",
      "29/29 [==============================] - 0s 2ms/step - loss: 0.1201 - accuracy: 0.9639\n",
      "Epoch 55/100\n",
      "29/29 [==============================] - 0s 2ms/step - loss: 0.1169 - accuracy: 0.9644\n",
      "Epoch 56/100\n",
      "29/29 [==============================] - 0s 2ms/step - loss: 0.1155 - accuracy: 0.9667\n",
      "Epoch 57/100\n",
      "29/29 [==============================] - 0s 2ms/step - loss: 0.1136 - accuracy: 0.9672\n",
      "Epoch 58/100\n",
      "29/29 [==============================] - 0s 2ms/step - loss: 0.1111 - accuracy: 0.9667\n",
      "Epoch 59/100\n",
      "29/29 [==============================] - 0s 2ms/step - loss: 0.1085 - accuracy: 0.9706\n",
      "Epoch 60/100\n",
      "29/29 [==============================] - 0s 2ms/step - loss: 0.1069 - accuracy: 0.9694\n",
      "Epoch 61/100\n",
      "29/29 [==============================] - 0s 2ms/step - loss: 0.1034 - accuracy: 0.9706\n",
      "Epoch 62/100\n",
      "29/29 [==============================] - 0s 1ms/step - loss: 0.1016 - accuracy: 0.9706\n",
      "Epoch 63/100\n",
      "29/29 [==============================] - 0s 1ms/step - loss: 0.1014 - accuracy: 0.9706\n",
      "Epoch 64/100\n",
      "29/29 [==============================] - 0s 1ms/step - loss: 0.0989 - accuracy: 0.9728\n",
      "Epoch 65/100\n",
      "29/29 [==============================] - 0s 1ms/step - loss: 0.0963 - accuracy: 0.9733\n",
      "Epoch 66/100\n",
      "29/29 [==============================] - 0s 1ms/step - loss: 0.0947 - accuracy: 0.9739\n",
      "Epoch 67/100\n",
      "29/29 [==============================] - 0s 2ms/step - loss: 0.0930 - accuracy: 0.9756\n",
      "Epoch 68/100\n",
      "29/29 [==============================] - 0s 2ms/step - loss: 0.0910 - accuracy: 0.9756\n",
      "Epoch 69/100\n",
      "29/29 [==============================] - 0s 2ms/step - loss: 0.0887 - accuracy: 0.9767\n",
      "Epoch 70/100\n",
      "29/29 [==============================] - 0s 2ms/step - loss: 0.0880 - accuracy: 0.9806\n",
      "Epoch 71/100\n",
      "29/29 [==============================] - 0s 2ms/step - loss: 0.0860 - accuracy: 0.9806\n",
      "Epoch 72/100\n",
      "29/29 [==============================] - 0s 2ms/step - loss: 0.0860 - accuracy: 0.9794\n",
      "Epoch 73/100\n",
      "29/29 [==============================] - 0s 2ms/step - loss: 0.0840 - accuracy: 0.9756\n",
      "Epoch 74/100\n",
      "29/29 [==============================] - 0s 2ms/step - loss: 0.0820 - accuracy: 0.9789\n",
      "Epoch 75/100\n",
      "29/29 [==============================] - 0s 2ms/step - loss: 0.0816 - accuracy: 0.9800\n",
      "Epoch 76/100\n",
      "29/29 [==============================] - 0s 2ms/step - loss: 0.0787 - accuracy: 0.9806\n",
      "Epoch 77/100\n",
      "29/29 [==============================] - 0s 2ms/step - loss: 0.0767 - accuracy: 0.9833\n",
      "Epoch 78/100\n",
      "29/29 [==============================] - 0s 2ms/step - loss: 0.0754 - accuracy: 0.9839\n",
      "Epoch 79/100\n",
      "29/29 [==============================] - 0s 2ms/step - loss: 0.0751 - accuracy: 0.9806\n",
      "Epoch 80/100\n",
      "29/29 [==============================] - 0s 2ms/step - loss: 0.0744 - accuracy: 0.9800\n",
      "Epoch 81/100\n",
      "29/29 [==============================] - 0s 2ms/step - loss: 0.0739 - accuracy: 0.9794\n",
      "Epoch 82/100\n",
      "29/29 [==============================] - 0s 1ms/step - loss: 0.0715 - accuracy: 0.9839\n",
      "Epoch 83/100\n",
      "29/29 [==============================] - 0s 1ms/step - loss: 0.0704 - accuracy: 0.9839\n",
      "Epoch 84/100\n",
      "29/29 [==============================] - 0s 1ms/step - loss: 0.0685 - accuracy: 0.9817\n",
      "Epoch 85/100\n",
      "29/29 [==============================] - 0s 2ms/step - loss: 0.0677 - accuracy: 0.9850\n",
      "Epoch 86/100\n",
      "29/29 [==============================] - 0s 1ms/step - loss: 0.0665 - accuracy: 0.9839\n",
      "Epoch 87/100\n",
      "29/29 [==============================] - 0s 1ms/step - loss: 0.0666 - accuracy: 0.9850\n",
      "Epoch 88/100\n",
      "29/29 [==============================] - 0s 1ms/step - loss: 0.0662 - accuracy: 0.9850\n",
      "Epoch 89/100\n",
      "29/29 [==============================] - 0s 2ms/step - loss: 0.0651 - accuracy: 0.9861\n",
      "Epoch 90/100\n",
      "29/29 [==============================] - 0s 2ms/step - loss: 0.0629 - accuracy: 0.9861\n",
      "Epoch 91/100\n",
      "29/29 [==============================] - 0s 2ms/step - loss: 0.0620 - accuracy: 0.9872\n",
      "Epoch 92/100\n",
      "29/29 [==============================] - 0s 2ms/step - loss: 0.0612 - accuracy: 0.9878\n",
      "Epoch 93/100\n",
      "29/29 [==============================] - 0s 2ms/step - loss: 0.0599 - accuracy: 0.9883\n",
      "Epoch 94/100\n",
      "29/29 [==============================] - 0s 2ms/step - loss: 0.0591 - accuracy: 0.9883\n",
      "Epoch 95/100\n",
      "29/29 [==============================] - 0s 2ms/step - loss: 0.0573 - accuracy: 0.9906\n",
      "Epoch 96/100\n",
      "29/29 [==============================] - 0s 2ms/step - loss: 0.0569 - accuracy: 0.9889\n",
      "Epoch 97/100\n",
      "29/29 [==============================] - 0s 2ms/step - loss: 0.0556 - accuracy: 0.9894\n",
      "Epoch 98/100\n",
      "29/29 [==============================] - 0s 2ms/step - loss: 0.0555 - accuracy: 0.9911\n",
      "Epoch 99/100\n",
      "29/29 [==============================] - 0s 2ms/step - loss: 0.0542 - accuracy: 0.9917\n",
      "Epoch 100/100\n",
      "29/29 [==============================] - 0s 2ms/step - loss: 0.0536 - accuracy: 0.9922\n"
     ]
    }
   ],
   "source": [
    "tnn=nn.fit(x_train,y_train,epochs=100,batch_size=64)"
   ]
  },
  {
   "cell_type": "code",
   "execution_count": 12,
   "metadata": {},
   "outputs": [],
   "source": [
    "y_pred=nn.predict(x_test)"
   ]
  },
  {
   "cell_type": "code",
   "execution_count": 13,
   "metadata": {},
   "outputs": [],
   "source": [
    "pred=list()\n",
    "for i in range(len(y_pred)):\n",
    "    pred.append(np.argmax(y_pred[i]))\n",
    "test=list()\n",
    "for i in range(len(y_test)):\n",
    "    test.append(np.argmax(y_test[i]))"
   ]
  },
  {
   "cell_type": "code",
   "execution_count": 14,
   "metadata": {},
   "outputs": [
    {
     "output_type": "execute_result",
     "data": {
      "text/plain": [
       "0.935"
      ]
     },
     "metadata": {},
     "execution_count": 14
    }
   ],
   "source": [
    "accuracy_score(pred,test)"
   ]
  },
  {
   "cell_type": "code",
   "execution_count": null,
   "metadata": {},
   "outputs": [],
   "source": []
  }
 ]
}