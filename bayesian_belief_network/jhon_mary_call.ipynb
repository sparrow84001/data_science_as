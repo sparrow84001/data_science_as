{
 "metadata": {
  "language_info": {
   "codemirror_mode": {
    "name": "ipython",
    "version": 3
   },
   "file_extension": ".py",
   "mimetype": "text/x-python",
   "name": "python",
   "nbconvert_exporter": "python",
   "pygments_lexer": "ipython3",
   "version": "3.8.10"
  },
  "orig_nbformat": 4,
  "kernelspec": {
   "name": "python3",
   "display_name": "Python 3.8.10 64-bit ('Tgpu': conda)"
  },
  "interpreter": {
   "hash": "6164a6e5985db2c0058ac0f11411a3db6fb58fea4711a22e7f80dc1e8b2fc156"
  }
 },
 "nbformat": 4,
 "nbformat_minor": 2,
 "cells": [
  {
   "cell_type": "code",
   "execution_count": 2,
   "metadata": {},
   "outputs": [],
   "source": [
    "from pgmpy.models import BayesianModel\n",
    "from pgmpy.inference import VariableElimination\n",
    "from pgmpy.factors.discrete import TabularCPD"
   ]
  },
  {
   "cell_type": "code",
   "execution_count": 3,
   "metadata": {},
   "outputs": [],
   "source": [
    "alarm_model = BayesianModel([('Burglary', 'Alarm'), \n",
    "                              ('Earthquake', 'Alarm'),\n",
    "                              ('Alarm', 'JohnCalls'),\n",
    "                              ('Alarm', 'MaryCalls')])\n",
    "\n",
    "cpd_burglary = TabularCPD(variable='Burglary', variable_card=2,\n",
    "                      values=[[.999], [0.001]])\n",
    "cpd_earthquake = TabularCPD(variable='Earthquake', variable_card=2,\n",
    "                       values=[[0.998], [0.002]])\n",
    "cpd_alarm = TabularCPD(variable='Alarm', variable_card=2,\n",
    "                        values=[[0.999, 0.71, 0.06, 0.05],\n",
    "                                [0.001, 0.29, 0.94, 0.95]],\n",
    "                        evidence=['Burglary', 'Earthquake'],\n",
    "                        evidence_card=[2, 2])\n",
    "cpd_johncalls = TabularCPD(variable='JohnCalls', variable_card=2,\n",
    "                      values=[[0.95, 0.1], [0.05, 0.9]],\n",
    "                      evidence=['Alarm'], evidence_card=[2])\n",
    "cpd_marycalls = TabularCPD(variable='MaryCalls', variable_card=2,\n",
    "                      values=[[0.1, 0.7], [0.9, 0.3]],\n",
    "                      evidence=['Alarm'], evidence_card=[2])\n",
    "\n",
    "alarm_model.add_cpds(cpd_burglary, cpd_earthquake, cpd_alarm, cpd_johncalls, cpd_marycalls)"
   ]
  },
  {
   "cell_type": "code",
   "execution_count": 4,
   "metadata": {},
   "outputs": [
    {
     "output_type": "execute_result",
     "data": {
      "text/plain": [
       "True"
      ]
     },
     "metadata": {},
     "execution_count": 4
    }
   ],
   "source": [
    "alarm_model.check_model()"
   ]
  },
  {
   "cell_type": "code",
   "execution_count": 5,
   "metadata": {},
   "outputs": [
    {
     "output_type": "execute_result",
     "data": {
      "text/plain": [
       "NodeView(('Burglary', 'Alarm', 'Earthquake', 'JohnCalls', 'MaryCalls'))"
      ]
     },
     "metadata": {},
     "execution_count": 5
    }
   ],
   "source": [
    "alarm_model.nodes()"
   ]
  },
  {
   "cell_type": "code",
   "execution_count": 6,
   "metadata": {},
   "outputs": [
    {
     "output_type": "execute_result",
     "data": {
      "text/plain": [
       "OutEdgeView([('Burglary', 'Alarm'), ('Alarm', 'JohnCalls'), ('Alarm', 'MaryCalls'), ('Earthquake', 'Alarm')])"
      ]
     },
     "metadata": {},
     "execution_count": 6
    }
   ],
   "source": [
    "alarm_model.edges()"
   ]
  },
  {
   "cell_type": "code",
   "execution_count": 7,
   "metadata": {},
   "outputs": [
    {
     "output_type": "execute_result",
     "data": {
      "text/plain": [
       "(Burglary ⟂ Earthquake)"
      ]
     },
     "metadata": {},
     "execution_count": 7
    }
   ],
   "source": [
    "alarm_model.local_independencies('Burglary')"
   ]
  },
  {
   "cell_type": "code",
   "execution_count": 10,
   "metadata": {},
   "outputs": [
    {
     "output_type": "execute_result",
     "data": {
      "text/plain": [
       "(JohnCalls ⟂ MaryCalls, Earthquake, Burglary | Alarm)"
      ]
     },
     "metadata": {},
     "execution_count": 10
    }
   ],
   "source": [
    "alarm_model.local_independencies('JohnCalls')"
   ]
  },
  {
   "cell_type": "code",
   "execution_count": 12,
   "metadata": {},
   "outputs": [
    {
     "output_type": "execute_result",
     "data": {
      "text/plain": [
       "(Burglary ⟂ Earthquake)\n",
       "(Burglary ⟂ JohnCalls, MaryCalls | Alarm)\n",
       "(Burglary ⟂ MaryCalls | JohnCalls, Alarm)\n",
       "(Burglary ⟂ JohnCalls, MaryCalls | Earthquake, Alarm)\n",
       "(Burglary ⟂ JohnCalls | MaryCalls, Alarm)\n",
       "(Burglary ⟂ MaryCalls | JohnCalls, Earthquake, Alarm)\n",
       "(Burglary ⟂ JohnCalls | MaryCalls, Earthquake, Alarm)\n",
       "(Earthquake ⟂ Burglary)\n",
       "(Earthquake ⟂ JohnCalls, MaryCalls | Alarm)\n",
       "(Earthquake ⟂ MaryCalls | JohnCalls, Alarm)\n",
       "(Earthquake ⟂ JohnCalls | MaryCalls, Alarm)\n",
       "(Earthquake ⟂ JohnCalls, MaryCalls | Alarm, Burglary)\n",
       "(Earthquake ⟂ MaryCalls | JohnCalls, Alarm, Burglary)\n",
       "(Earthquake ⟂ JohnCalls | MaryCalls, Alarm, Burglary)\n",
       "(JohnCalls ⟂ MaryCalls, Earthquake, Burglary | Alarm)\n",
       "(JohnCalls ⟂ Earthquake, Burglary | MaryCalls, Alarm)\n",
       "(JohnCalls ⟂ MaryCalls, Burglary | Earthquake, Alarm)\n",
       "(JohnCalls ⟂ MaryCalls, Earthquake | Alarm, Burglary)\n",
       "(JohnCalls ⟂ Burglary | MaryCalls, Earthquake, Alarm)\n",
       "(JohnCalls ⟂ Earthquake | MaryCalls, Alarm, Burglary)\n",
       "(JohnCalls ⟂ MaryCalls | Earthquake, Alarm, Burglary)\n",
       "(MaryCalls ⟂ JohnCalls, Earthquake, Burglary | Alarm)\n",
       "(MaryCalls ⟂ Earthquake, Burglary | JohnCalls, Alarm)\n",
       "(MaryCalls ⟂ JohnCalls, Burglary | Earthquake, Alarm)\n",
       "(MaryCalls ⟂ JohnCalls, Earthquake | Alarm, Burglary)\n",
       "(MaryCalls ⟂ Burglary | JohnCalls, Earthquake, Alarm)\n",
       "(MaryCalls ⟂ Earthquake | JohnCalls, Alarm, Burglary)\n",
       "(MaryCalls ⟂ JohnCalls | Earthquake, Alarm, Burglary)"
      ]
     },
     "metadata": {},
     "execution_count": 12
    }
   ],
   "source": [
    "alarm_model.get_independencies()"
   ]
  },
  {
   "cell_type": "code",
   "execution_count": null,
   "metadata": {},
   "outputs": [],
   "source": []
  }
 ]
}